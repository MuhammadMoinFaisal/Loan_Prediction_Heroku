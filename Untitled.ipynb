{
	"cells": [
		{
			"cell_type": "code",
			"execution_count": null,
			"id": "08e8954b",
			"metadata": {
				"trusted": true
			},
			"outputs": [],
			"source": [
				"import pandas as pd"
			]
		},
		{
			"cell_type": "code",
			"execution_count": 6,
			"id": "771f1082",
			"metadata": {},
			"outputs": [],
			"source": [
				"from flask import Flask"
			]
		},
		{
			"cell_type": "code",
			"execution_count": 24,
			"id": "8284fd9e",
			"metadata": {},
			"outputs": [
				{
					"name": "stdout",
					"output_type": "stream",
					"text": [
						"Name: MarkupSafe\n",
						"Version: 2.0.1\n",
						"Summary: Safely add untrusted strings to HTML/XML markup.\n",
						"Home-page: https://palletsprojects.com/p/markupsafe/\n",
						"Author: Armin Ronacher\n",
						"Author-email: armin.ronacher@active-4.com\n",
						"License: BSD-3-Clause\n",
						"Location: c:\\users\\mmoin\\anaconda3\\lib\\site-packages\n",
						"Requires: \n",
						"Required-by: Jinja2\n",
						"Name: Werkzeug\n",
						"Version: 2.0.3\n",
						"Summary: The comprehensive WSGI web application library.\n",
						"Home-page: https://palletsprojects.com/p/werkzeug/\n",
						"Author: Armin Ronacher\n",
						"Author-email: armin.ronacher@active-4.com\n",
						"License: BSD-3-Clause\n",
						"Location: c:\\users\\mmoin\\anaconda3\\lib\\site-packages\n",
						"Requires: \n",
						"Required-by: tensorboard, Flask\n"
					]
				}
			],
			"source": [
				"import flask\n",
				"flask.__version__\n",
				"#!pip show jinja2\n",
				"#!pip show itsdangerous \n",
				"!pip show MarkupSafe\n",
				"!pip show Werkzeug"
			]
		},
		{
			"cell_type": "code",
			"execution_count": 17,
			"id": "89a19efd",
			"metadata": {},
			"outputs": [
				{
					"name": "stdout",
					"output_type": "stream",
					"text": [
						"Collecting gunicorn\n",
						"  Downloading gunicorn-20.1.0-py3-none-any.whl (79 kB)\n",
						"Requirement already satisfied: setuptools>=3.0 in c:\\users\\mmoin\\anaconda3\\lib\\site-packages (from gunicorn) (61.2.0)\n",
						"Installing collected packages: gunicorn\n",
						"Successfully installed gunicorn-20.1.0\n"
					]
				}
			],
			"source": [
				"!pip install gunicorn"
			]
		},
		{
			"cell_type": "code",
			"execution_count": 38,
			"id": "19857b99",
			"metadata": {},
			"outputs": [],
			"source": [
				"import numpy\n",
				"\n",
				"import scipy\n",
				"\n",
				"import matplotlib\n",
				"\n",
				"import pandas\n",
				"\n",
				"import sklearn"
			]
		},
		{
			"cell_type": "code",
			"execution_count": 39,
			"id": "a25a5434",
			"metadata": {},
			"outputs": [
				{
					"data": {
						"text/plain": [
							"'1.0.2'"
						]
					},
					"execution_count": 39,
					"metadata": {},
					"output_type": "execute_result"
				}
			],
			"source": [
				"sklearn.__version__ # Prints version\n",
				"\n"
			]
		},
		{
			"cell_type": "code",
			"execution_count": 19,
			"id": "f82a7750",
			"metadata": {},
			"outputs": [
				{
					"name": "stdout",
					"output_type": "stream",
					"text": [
						"Requirement already satisfied: itsdangerous in c:\\users\\mmoin\\anaconda3\\lib\\site-packages (2.0.1)\n"
					]
				}
			],
			"source": [
				"!pip install itsdangerous"
			]
		},
		{
			"cell_type": "code",
			"execution_count": 21,
			"id": "a0882219",
			"metadata": {},
			"outputs": [
				{
					"ename": "NameError",
					"evalue": "name 'itsdangerous' is not defined",
					"output_type": "error",
					"traceback": [
						"\u001b[1;31m---------------------------------------------------------------------------\u001b[0m",
						"\u001b[1;31mNameError\u001b[0m                                 Traceback (most recent call last)",
						"\u001b[1;32mf:\\Second_Testing\\Untitled.ipynb Cell 7\u001b[0m in \u001b[0;36m<cell line: 1>\u001b[1;34m()\u001b[0m\n\u001b[1;32m----> <a href='vscode-notebook-cell:/f%3A/Second_Testing/Untitled.ipynb#Y110sZmlsZQ%3D%3D?line=0'>1</a>\u001b[0m itsdangerous \u001b[39m.\u001b[39m__version__\n",
						"\u001b[1;31mNameError\u001b[0m: name 'itsdangerous' is not defined"
					]
				}
			],
			"source": [
				"itsdangerous .__version__ # Prints version\n"
			]
		},
		{
			"cell_type": "code",
			"execution_count": null,
			"id": "0976dfff",
			"metadata": {
				"trusted": true
			},
			"outputs": [],
			"source": [
				"import numpy as np"
			]
		},
		{
			"cell_type": "code",
			"execution_count": null,
			"id": "18cc8c37",
			"metadata": {
				"trusted": true
			},
			"outputs": [],
			"source": [
				"import seaborn as sns"
			]
		},
		{
			"cell_type": "code",
			"execution_count": null,
			"id": "c363c407",
			"metadata": {
				"trusted": true
			},
			"outputs": [],
			"source": [
				"import opendatasets as od"
			]
		},
		{
			"cell_type": "code",
			"execution_count": null,
			"id": "7368deff",
			"metadata": {
				"trusted": true
			},
			"outputs": [],
			"source": [
				"from sklearn.model_selection import train_test_split"
			]
		},
		{
			"cell_type": "code",
			"execution_count": null,
			"id": "e1d49c99",
			"metadata": {
				"trusted": true
			},
			"outputs": [],
			"source": [
				"from sklearn.metrics import accuracy_score"
			]
		},
		{
			"cell_type": "code",
			"execution_count": null,
			"id": "12664a72",
			"metadata": {
				"trusted": true
			},
			"outputs": [],
			"source": [
				"from sklearn.tree import DecisionTreeClassifier"
			]
		},
		{
			"cell_type": "code",
			"execution_count": null,
			"id": "9f10b656",
			"metadata": {
				"trusted": true
			},
			"outputs": [],
			"source": [
				"from sklearn.ensemble import RandomForestClassifier"
			]
		},
		{
			"cell_type": "code",
			"execution_count": null,
			"id": "2c0ba64f",
			"metadata": {
				"trusted": true
			},
			"outputs": [],
			"source": [
				"from sklearn.preprocessing import LabelEncoder"
			]
		},
		{
			"cell_type": "code",
			"execution_count": null,
			"id": "63849123",
			"metadata": {
				"trusted": true
			},
			"outputs": [],
			"source": [
				"from sklearn.metrics import accuracy_score"
			]
		},
		{
			"cell_type": "code",
			"execution_count": null,
			"id": "87949ae8",
			"metadata": {
				"trusted": true
			},
			"outputs": [],
			"source": [
				"from sklearn.metrics import classification_report"
			]
		},
		{
			"cell_type": "code",
			"execution_count": null,
			"id": "e4387cc1",
			"metadata": {
				"trusted": true
			},
			"outputs": [],
			"source": [
				"from sklearn.metrics import confusion_matrix"
			]
		},
		{
			"cell_type": "code",
			"execution_count": null,
			"id": "9d127efb",
			"metadata": {
				"trusted": true
			},
			"outputs": [],
			"source": [
				"from sklearn.model_selection import GridSearchCV"
			]
		},
		{
			"cell_type": "code",
			"execution_count": null,
			"id": "079089e9",
			"metadata": {
				"trusted": true
			},
			"outputs": [],
			"source": [
				"import pickle"
			]
		},
		{
			"cell_type": "code",
			"execution_count": null,
			"id": "6e266619",
			"metadata": {
				"trusted": true
			},
			"outputs": [
				{
					"name": "stdout",
					"output_type": "stream",
					"text": [
						"Please provide your Kaggle credentials to download this dataset. Learn more: http://bit.ly/kaggle-creds\n",
						"Your Kaggle username: muhammadmoinfaisal\n",
						"Your Kaggle Key: ****\n",
						"Downloading loan-prediction-problem-dataset.zip to ./loan-prediction-problem-dataset\n",
						"100%|██████████| 12.6k/12.6k [00:00<00:00, 967kB/s]\n"
					]
				}
			],
			"source": [
				"od.download(\"https://www.kaggle.com/datasets/altruistdelhite04/loan-prediction-problem-dataset?select=test_Y3wMUE5_7gLdaTN.csv\")"
			]
		},
		{
			"cell_type": "code",
			"execution_count": null,
			"id": "bb94af72",
			"metadata": {
				"trusted": true
			},
			"outputs": [],
			"source": [
				"data_train = pd.read_csv(\"loan-prediction-problem-dataset/train_u6lujuX_CVtuZ9i.csv\")"
			]
		},
		{
			"cell_type": "code",
			"execution_count": null,
			"id": "78cfeb1d",
			"metadata": {
				"trusted": true
			},
			"outputs": [],
			"source": [
				"data_test = pd.read_csv(\"loan-prediction-problem-dataset/test_Y3wMUE5_7gLdaTN.csv\")"
			]
		},
		{
			"cell_type": "code",
			"execution_count": null,
			"id": "dc64a153",
			"metadata": {
				"trusted": true
			},
			"outputs": [
				{
					"name": "stdout",
					"output_type": "stream",
					"text": [
						"Loan_ID Gender Married Dependents     Education Self_Employed  \\\n",
						"0  LP001002   Male      No          0      Graduate            No   \n",
						"1  LP001003   Male     Yes          1      Graduate            No   \n",
						"2  LP001005   Male     Yes          0      Graduate           Yes   \n",
						"3  LP001006   Male     Yes          0  Not Graduate            No   \n",
						"4  LP001008   Male      No          0      Graduate            No   \n",
						"   ApplicantIncome  CoapplicantIncome  LoanAmount  Loan_Amount_Term  \\\n",
						"0             5849                0.0         NaN             360.0   \n",
						"1             4583             1508.0       128.0             360.0   \n",
						"2             3000                0.0        66.0             360.0   \n",
						"3             2583             2358.0       120.0             360.0   \n",
						"4             6000                0.0       141.0             360.0   \n",
						"   Credit_History Property_Area Loan_Status  \n",
						"0             1.0         Urban           Y  \n",
						"1             1.0         Rural           N  \n",
						"2             1.0         Urban           Y  \n",
						"3             1.0         Urban           Y  \n",
						"4             1.0         Urban           Y  \n"
					]
				}
			],
			"source": [
				"print(data_train.head())"
			]
		},
		{
			"cell_type": "code",
			"execution_count": null,
			"id": "68237dbe",
			"metadata": {
				"trusted": true
			},
			"outputs": [
				{
					"name": "stdout",
					"output_type": "stream",
					"text": [
						"Loan_ID Gender Married Dependents     Education Self_Employed  \\\n",
						"0  LP001015   Male     Yes          0      Graduate            No   \n",
						"1  LP001022   Male     Yes          1      Graduate            No   \n",
						"2  LP001031   Male     Yes          2      Graduate            No   \n",
						"3  LP001035   Male     Yes          2      Graduate            No   \n",
						"4  LP001051   Male      No          0  Not Graduate            No   \n",
						"   ApplicantIncome  CoapplicantIncome  LoanAmount  Loan_Amount_Term  \\\n",
						"0             5720                  0       110.0             360.0   \n",
						"1             3076               1500       126.0             360.0   \n",
						"2             5000               1800       208.0             360.0   \n",
						"3             2340               2546       100.0             360.0   \n",
						"4             3276                  0        78.0             360.0   \n",
						"   Credit_History Property_Area  \n",
						"0             1.0         Urban  \n",
						"1             1.0         Urban  \n",
						"2             1.0         Urban  \n",
						"3             NaN         Urban  \n",
						"4             1.0         Urban  \n"
					]
				}
			],
			"source": [
				"print(data_test.head())"
			]
		},
		{
			"cell_type": "code",
			"execution_count": null,
			"id": "7754a0d0",
			"metadata": {
				"trusted": true
			},
			"outputs": [
				{
					"name": "stdout",
					"output_type": "stream",
					"text": [
						"Index(['Loan_ID', 'Gender', 'Married', 'Dependents', 'Education',\n",
						"       'Self_Employed', 'ApplicantIncome', 'CoapplicantIncome', 'LoanAmount',\n",
						"       'Loan_Amount_Term', 'Credit_History', 'Property_Area', 'Loan_Status'],\n",
						"      dtype='object')\n"
					]
				}
			],
			"source": [
				"print(data_train.columns)"
			]
		},
		{
			"cell_type": "code",
			"execution_count": null,
			"id": "e667e63e",
			"metadata": {
				"trusted": true
			},
			"outputs": [
				{
					"name": "stdout",
					"output_type": "stream",
					"text": [
						"Index(['Loan_ID', 'Gender', 'Married', 'Dependents', 'Education',\n",
						"       'Self_Employed', 'ApplicantIncome', 'CoapplicantIncome', 'LoanAmount',\n",
						"       'Loan_Amount_Term', 'Credit_History', 'Property_Area'],\n",
						"      dtype='object')\n"
					]
				}
			],
			"source": [
				"print(data_test.columns)"
			]
		},
		{
			"cell_type": "code",
			"execution_count": null,
			"id": "7bf53cf6",
			"metadata": {
				"trusted": true
			},
			"outputs": [],
			"source": [
				"data_train.drop(\"Loan_ID\", axis = 1, inplace = True)"
			]
		},
		{
			"cell_type": "code",
			"execution_count": null,
			"id": "f55b8656",
			"metadata": {
				"trusted": true
			},
			"outputs": [],
			"source": [
				"data_test.drop(\"Loan_ID\", axis = 1, inplace = True)"
			]
		},
		{
			"cell_type": "code",
			"execution_count": null,
			"id": "f68a2dc7",
			"metadata": {
				"trusted": true
			},
			"outputs": [],
			"source": [
				"label_encoder = LabelEncoder()\n",
				"\n",
				"data_train[\"Gender\"] = label_encoder.fit_transform(data_train[\"Gender\"])\n",
				"\n"
			]
		},
		{
			"cell_type": "code",
			"execution_count": null,
			"id": "a5f7faae",
			"metadata": {
				"trusted": true
			},
			"outputs": [],
			"source": [
				"category = [\"Married\", \"Dependents\", \"Education\"]\n",
				"\n",
				"data_train[category] = data_train[category].apply(LabelEncoder().fit_transform)"
			]
		},
		{
			"cell_type": "code",
			"execution_count": null,
			"id": "2c42d402",
			"metadata": {
				"trusted": true
			},
			"outputs": [],
			"source": [
				"data_train = data_train.apply(LabelEncoder().fit_transform)"
			]
		},
		{
			"cell_type": "code",
			"execution_count": null,
			"id": "83b72f2f",
			"metadata": {
				"trusted": true
			},
			"outputs": [],
			"source": [
				"label_encoder = LabelEncoder()\n",
				"data_test[\"Gender\"] = label_encoder.fit_transform(data_test[\"Gender\"])"
			]
		},
		{
			"cell_type": "code",
			"execution_count": null,
			"id": "1b67b6b6",
			"metadata": {
				"trusted": true
			},
			"outputs": [],
			"source": [
				"category = [\"Married\", \"Dependents\", \"Education\"]\n",
				"\n",
				"data_test[category] = data_test[category].apply(LabelEncoder().fit_transform)"
			]
		},
		{
			"cell_type": "code",
			"execution_count": null,
			"id": "0c1cb90a",
			"metadata": {
				"trusted": true
			},
			"outputs": [],
			"source": [
				"data_test = data_test.apply(LabelEncoder().fit_transform)"
			]
		},
		{
			"cell_type": "code",
			"execution_count": null,
			"id": "e67d5b6f",
			"metadata": {
				"trusted": true
			},
			"outputs": [
				{
					"name": "stdout",
					"output_type": "stream",
					"text": [
						"Gender               int64\n",
						"Married              int64\n",
						"Dependents           int64\n",
						"Education            int64\n",
						"Self_Employed        int64\n",
						"ApplicantIncome      int64\n",
						"CoapplicantIncome    int64\n",
						"LoanAmount           int64\n",
						"Loan_Amount_Term     int64\n",
						"Credit_History       int64\n",
						"Property_Area        int64\n",
						"Loan_Status          int64\n",
						"dtype: object\n"
					]
				}
			],
			"source": [
				"print(data_train.dtypes)"
			]
		},
		{
			"cell_type": "code",
			"execution_count": null,
			"id": "8cc8c6ed",
			"metadata": {
				"trusted": true
			},
			"outputs": [
				{
					"name": "stdout",
					"output_type": "stream",
					"text": [
						"Gender               int64\n",
						"Married              int64\n",
						"Dependents           int64\n",
						"Education            int64\n",
						"Self_Employed        int64\n",
						"ApplicantIncome      int64\n",
						"CoapplicantIncome    int64\n",
						"LoanAmount           int64\n",
						"Loan_Amount_Term     int64\n",
						"Credit_History       int64\n",
						"Property_Area        int64\n",
						"dtype: object\n"
					]
				}
			],
			"source": [
				"print(data_test.dtypes)"
			]
		},
		{
			"cell_type": "code",
			"execution_count": null,
			"id": "fd846e00",
			"metadata": {
				"trusted": true
			},
			"outputs": [
				{
					"name": "stdout",
					"output_type": "stream",
					"text": [
						"Gender  Married  Dependents  Education  Self_Employed  ApplicantIncome  \\\n",
						"0       1        0           0          0              0              376   \n",
						"1       1        1           1          0              0              306   \n",
						"2       1        1           0          0              1              139   \n",
						"3       1        1           0          1              0               90   \n",
						"4       1        0           0          0              0              381   \n",
						"   CoapplicantIncome  LoanAmount  Loan_Amount_Term  Credit_History  \\\n",
						"0                  0         203                 8               1   \n",
						"1                 60          81                 8               1   \n",
						"2                  0          26                 8               1   \n",
						"3                160          73                 8               1   \n",
						"4                  0          94                 8               1   \n",
						"   Property_Area  Loan_Status  \n",
						"0              2            1  \n",
						"1              0            0  \n",
						"2              2            1  \n",
						"3              2            1  \n",
						"4              2            1  \n"
					]
				}
			],
			"source": [
				"print(data_train.head())"
			]
		},
		{
			"cell_type": "code",
			"execution_count": null,
			"id": "a7ae0fc7",
			"metadata": {
				"trusted": true
			},
			"outputs": [
				{
					"name": "stdout",
					"output_type": "stream",
					"text": [
						"1    422\n",
						"0    192\n",
						"Name: Loan_Status, dtype: int64\n"
					]
				}
			],
			"source": [
				"print(data_train[\"Loan_Status\"].value_counts())"
			]
		},
		{
			"cell_type": "code",
			"execution_count": null,
			"id": "bce6692d",
			"metadata": {
				"trusted": true
			},
			"outputs": [],
			"source": [
				"X = data_train.drop(\"Loan_Status\", axis = 1)\n",
				"\n",
				"y = data_train[[\"Loan_Status\"]]"
			]
		},
		{
			"cell_type": "code",
			"execution_count": null,
			"id": "0ff0684f",
			"metadata": {
				"trusted": true
			},
			"outputs": [],
			"source": [
				"X_train, X_test, y_train, y_test = train_test_split(X, y, test_size = 0.2)"
			]
		},
		{
			"cell_type": "code",
			"execution_count": null,
			"id": "267088b9",
			"metadata": {
				"trusted": true
			},
			"outputs": [],
			"source": [
				"model = DecisionTreeClassifier()"
			]
		},
		{
			"cell_type": "code",
			"execution_count": null,
			"id": "2c7eccb2",
			"metadata": {
				"trusted": true
			},
			"outputs": [],
			"source": [
				"model.fit(X_train, y_train)"
			]
		},
		{
			"cell_type": "code",
			"execution_count": null,
			"id": "dd8d5398",
			"metadata": {
				"trusted": true
			},
			"outputs": [],
			"source": [
				"prediction = model.predict(X_test)"
			]
		},
		{
			"cell_type": "code",
			"execution_count": null,
			"id": "d892b876",
			"metadata": {
				"trusted": true
			},
			"outputs": [
				{
					"name": "stdout",
					"output_type": "stream",
					"text": [
						"[1 0 1 1 0 1 1 1 0 1 0 1 1 1 1 1 0 1 0 1 1 1 1 1 1 1 0 1 1 1 1 1 0 0 1 0 1\n",
						" 0 0 1 1 1 1 0 0 1 1 1 1 1 0 1 1 0 0 1 0 0 0 1 1 0 0 1 0 1 1 1 1 1 0 0 1 1\n",
						" 1 1 1 0 1 1 1 1 0 0 1 0 0 1 1 1 1 1 1 1 0 1 1 1 1 1 1 1 1 1 0 1 0 0 1 1 1\n",
						" 0 0 1 1 1 1 1 0 0 1 1 0]\n"
					]
				}
			],
			"source": [
				"print(prediction)"
			]
		},
		{
			"cell_type": "code",
			"execution_count": null,
			"id": "b2ea3c2a",
			"metadata": {
				"trusted": true
			},
			"outputs": [
				{
					"name": "stdout",
					"output_type": "stream",
					"text": [
						"(123,)\n"
					]
				}
			],
			"source": [
				"print(prediction.shape)"
			]
		},
		{
			"cell_type": "code",
			"execution_count": null,
			"id": "99c8970f",
			"metadata": {
				"trusted": true
			},
			"outputs": [
				{
					"name": "stdout",
					"output_type": "stream",
					"text": [
						"Loan_Status\n",
						"75             0\n",
						"36             0\n",
						"574            0\n",
						"169            1\n",
						"120            1\n",
						"..           ...\n",
						"480            1\n",
						"499            0\n",
						"451            1\n",
						"340            0\n",
						"476            1\n",
						"[123 rows x 1 columns]\n"
					]
				}
			],
			"source": [
				"print(y_test)"
			]
		},
		{
			"cell_type": "code",
			"execution_count": null,
			"id": "77fab2f0",
			"metadata": {
				"trusted": true
			},
			"outputs": [
				{
					"name": "stdout",
					"output_type": "stream",
					"text": [
						"0.6260162601626016\n"
					]
				}
			],
			"source": [
				"print(accuracy_score(prediction, y_test))"
			]
		},
		{
			"cell_type": "code",
			"execution_count": null,
			"id": "373547fa",
			"metadata": {
				"trusted": true
			},
			"outputs": [
				{
					"name": "stdout",
					"output_type": "stream",
					"text": [
						"precision    recall  f1-score   support\n",
						"           0       0.41      0.41      0.41        39\n",
						"           1       0.73      0.73      0.73        84\n",
						"    accuracy                           0.63       123\n",
						"   macro avg       0.57      0.57      0.57       123\n",
						"weighted avg       0.63      0.63      0.63       123\n"
					]
				}
			],
			"source": [
				"print(classification_report(prediction, y_test))"
			]
		},
		{
			"cell_type": "code",
			"execution_count": null,
			"id": "2ee9736e",
			"metadata": {
				"trusted": true
			},
			"outputs": [],
			"source": [
				"cm = confusion_matrix(prediction, y_test)"
			]
		},
		{
			"cell_type": "code",
			"execution_count": null,
			"id": "2263ca14",
			"metadata": {
				"trusted": true
			},
			"outputs": [
				{
					"name": "stdout",
					"output_type": "stream",
					"text": [
						"[[16 23]\n",
						" [23 61]]\n"
					]
				}
			],
			"source": [
				"print(cm)"
			]
		},
		{
			"cell_type": "code",
			"execution_count": null,
			"id": "f5038c23",
			"metadata": {
				"trusted": true
			},
			"outputs": [
				{
					"data": {
						"image/png": "[encoded data removed]",
						"text/plain": [
							"<Figure size 432x288 with 2 Axes>"
						]
					},
					"metadata": {
						"needs_background": "light"
					},
					"output_type": "display_data"
				}
			],
			"source": [
				"sns.heatmap(cm, annot = True)"
			]
		},
		{
			"cell_type": "markdown",
			"id": "b500d53a",
			"metadata": {
				"trusted": true
			},
			"source": [
				"Applying the Hyper Paramter Tuning"
			]
		},
		{
			"cell_type": "code",
			"execution_count": null,
			"id": "3ab9f666",
			"metadata": {
				"trusted": true
			},
			"outputs": [],
			"source": [
				"params = {\n",
				"  'max_depth': [2, 3, 5, 10],\n",
				"  'min_samples_leaf': [5, 10, 20, 50],\n",
				"   'criterion': [\"gini\", \"entropy\"]\n",
				"}"
			]
		},
		{
			"cell_type": "code",
			"execution_count": null,
			"id": "295288a1",
			"metadata": {
				"trusted": true
			},
			"outputs": [],
			"source": [
				"grid_search = GridSearchCV(estimator = model, \n",
				"                           param_grid = params,\n",
				"                           \n",
				"                           cv = 4, n_jobs = -1, verbose = 1, scoring = \"accuracy\")"
			]
		},
		{
			"cell_type": "code",
			"execution_count": null,
			"id": "b7259259",
			"metadata": {
				"trusted": true
			},
			"outputs": [
				{
					"name": "stdout",
					"output_type": "stream",
					"text": [
						"Fitting 4 folds for each of 32 candidates, totalling 128 fits\n"
					]
				}
			],
			"source": [
				"grid_search.fit(X_train, y_train)"
			]
		},
		{
			"cell_type": "code",
			"execution_count": null,
			"id": "1f263dc1",
			"metadata": {
				"trusted": true
			},
			"outputs": [
				{
					"name": "stdout",
					"output_type": "stream",
					"text": [
						"DecisionTreeClassifier(max_depth=2, min_samples_leaf=5)\n"
					]
				}
			],
			"source": [
				"print(grid_search.best_estimator_)"
			]
		},
		{
			"cell_type": "code",
			"execution_count": null,
			"id": "33253d8e",
			"metadata": {
				"trusted": true
			},
			"outputs": [],
			"source": [
				"decision_tree = grid_search.best_estimator_"
			]
		},
		{
			"cell_type": "code",
			"execution_count": null,
			"id": "c89f2b03",
			"metadata": {
				"trusted": true
			},
			"outputs": [
				{
					"name": "stdout",
					"output_type": "stream",
					"text": [
						"0.8167006109979633\n"
					]
				}
			],
			"source": [
				"print(accuracy_score(y_train, decision_tree.predict(X_train)))"
			]
		},
		{
			"cell_type": "code",
			"execution_count": null,
			"id": "b5c4d45e",
			"metadata": {
				"trusted": true
			},
			"outputs": [
				{
					"name": "stdout",
					"output_type": "stream",
					"text": [
						"0.7804878048780488\n"
					]
				}
			],
			"source": [
				"print(accuracy_score(y_test, decision_tree.predict(X_test)))"
			]
		},
		{
			"cell_type": "code",
			"execution_count": null,
			"id": "06f9db6f",
			"metadata": {
				"trusted": true
			},
			"outputs": [],
			"source": [
				"with open('model', 'wb') as files:\n",
				"    pickle.dump(model, files)"
			]
		},
		{
			"cell_type": "code",
			"execution_count": null,
			"id": "36ab9ffd",
			"metadata": {
				"trusted": true
			},
			"outputs": [],
			"source": []
		}
	],
	"metadata": {
		"kernelspec": {
			"display_name": "Python 3.9.12 ('base')",
			"language": "python",
			"name": "python3"
		},
		"language_info": {
			"codemirror_mode": {
				"name": "ipython",
				"version": 3
			},
			"file_extension": ".py",
			"mimetype": "text/x-python",
			"name": "python",
			"nbconvert_exporter": "python",
			"pygments_lexer": "ipython3",
			"version": "3.9.12"
		},
		"vscode": {
			"interpreter": {
				"hash": "8e168ebdcabf1927f45ed35888cf5e0fe2e247e367377aca7d4f039b9594d7ce"
			}
		}
	},
	"nbformat": 4,
	"nbformat_minor": 5
}
